{
  "nbformat": 4,
  "nbformat_minor": 0,
  "metadata": {
    "colab": {
      "provenance": []
    },
    "kernelspec": {
      "name": "python3",
      "display_name": "Python 3"
    },
    "language_info": {
      "name": "python"
    }
  },
  "cells": [
    {
      "cell_type": "code",
      "execution_count": 2,
      "metadata": {
        "colab": {
          "base_uri": "https://localhost:8080/"
        },
        "id": "CugZ5Hboeqt5",
        "outputId": "b0540c0d-7369-4af6-861d-e534cdaf71c4"
      },
      "outputs": [
        {
          "output_type": "stream",
          "name": "stdout",
          "text": [
            "Requirement already satisfied: faker in /usr/local/lib/python3.11/dist-packages (37.1.0)\n",
            "Requirement already satisfied: tzdata in /usr/local/lib/python3.11/dist-packages (from faker) (2025.1)\n"
          ]
        }
      ],
      "source": [
        "!pip install faker"
      ]
    },
    {
      "cell_type": "code",
      "source": [
        "import csv\n",
        "from faker import Faker\n",
        "import random\n",
        "\n",
        "fake = Faker()\n",
        "\n",
        "num_records = 100000\n",
        "\n",
        "http_methods = ['GET', 'POST', 'PUT', 'DELETE']\n",
        "response_codes = [200, 301, 404, 500]\n",
        "\n",
        "file_path = \"web_server_logs.csv\"\n",
        "\n",
        "with open(file_path, mode='w', newline='') as file:\n",
        "    writer = csv.writer(file)\n",
        "    writer.writerow(['ip', 'timestamp', 'method', 'url', 'response_code', 'response_size'])\n",
        "\n",
        "    for _ in range(num_records):\n",
        "        ip = fake.ipv4()\n",
        "        timestamp = fake.date_time_this_year().isoformat()\n",
        "        method = random.choice(http_methods)\n",
        "        url = fake.uri_path()\n",
        "        response_code = random.choice(response_codes)\n",
        "        response_size = random.randint(100, 10000)\n",
        "\n",
        "        writer.writerow([ip, timestamp, method, url, response_code, response_size])\n",
        "\n",
        "print(f\"Сгенерировано {num_records} записей и сохранено в {file_path}\")"
      ],
      "metadata": {
        "colab": {
          "base_uri": "https://localhost:8080/"
        },
        "id": "evayqeIje9x5",
        "outputId": "e64f1855-7fd7-418a-9623-6cbef69e4095"
      },
      "execution_count": 3,
      "outputs": [
        {
          "output_type": "stream",
          "name": "stdout",
          "text": [
            "Сгенерировано 100000 записей и сохранено в web_server_logs.csv\n"
          ]
        }
      ]
    },
    {
      "cell_type": "code",
      "source": [
        "from types import coroutine\n",
        "from pyspark.sql import SparkSession\n",
        "from pyspark.sql.functions import col, sum as _sum, count, date_format\n",
        "from pyspark.sql.functions import to_timestamp\n",
        "\n",
        "spark = SparkSession.builder.appName(\"final_job_spark\").getOrCreate()\n",
        "\n",
        "df = spark.read.csv(\"web_server_logs.csv\", header=True, inferSchema=True)\n",
        "count_url_df = df.groupBy(col(\"ip\")).agg(count(col(\"url\")).alias(\"request_count\")).orderBy(col(\"request_count\").desc()).limit(10)\n",
        "count_method_df = df.groupBy(col(\"method\")).agg(count(col(\"method\")).alias(\"method_count\"))\n",
        "method_404_df = df.filter(col(\"response_code\") == 404)\n",
        "response_size_df = df.withColumn(\"date\", date_format(col(\"timestamp\"), \"yyyy-MM-dd\")).groupBy(col(\"date\")).agg(count(col(\"response_size\")).alias(\"total_response_size\")).orderBy(col(\"date\"))\n",
        "\n",
        "print(\"Top 10 active IP addresses:\")\n",
        "count_url_df.show()\n",
        "print(\"Request count by HTTP method:\")\n",
        "count_method_df.show()\n",
        "print(f\"Number of 404 response codes: {method_404_df.count()}\\n\")\n",
        "print(\"Total response size by day:\")\n",
        "response_size_df.show()\n",
        "\n",
        "\n",
        "\n",
        "\n",
        "spark.stop()"
      ],
      "metadata": {
        "colab": {
          "base_uri": "https://localhost:8080/"
        },
        "id": "ynbkaEEpfGt3",
        "outputId": "8eb76fc5-fb13-4aae-b368-b43ff61de9ee"
      },
      "execution_count": 28,
      "outputs": [
        {
          "output_type": "stream",
          "name": "stdout",
          "text": [
            "Top 10 active IP addresses:\n",
            "+---------------+-------------+\n",
            "|             ip|request_count|\n",
            "+---------------+-------------+\n",
            "|  164.74.253.98|            2|\n",
            "|   43.127.11.54|            1|\n",
            "|  9.128.226.181|            1|\n",
            "|  100.62.59.178|            1|\n",
            "|164.190.156.234|            1|\n",
            "|   202.2.221.68|            1|\n",
            "|   78.2.215.141|            1|\n",
            "| 103.131.61.226|            1|\n",
            "|  223.152.34.61|            1|\n",
            "| 192.158.79.187|            1|\n",
            "+---------------+-------------+\n",
            "\n",
            "Request count by HTTP method:\n",
            "+------+------------+\n",
            "|method|method_count|\n",
            "+------+------------+\n",
            "|  POST|       25102|\n",
            "|DELETE|       24929|\n",
            "|   PUT|       25073|\n",
            "|   GET|       24896|\n",
            "+------+------------+\n",
            "\n",
            "Number of 404 response codes: 24933\n",
            "\n",
            "Total response size by day:\n",
            "+----------+-------------------+\n",
            "|      date|total_response_size|\n",
            "+----------+-------------------+\n",
            "|2025-01-01|               1137|\n",
            "|2025-01-02|               1189|\n",
            "|2025-01-03|               1103|\n",
            "|2025-01-04|               1165|\n",
            "|2025-01-05|               1147|\n",
            "|2025-01-06|               1154|\n",
            "|2025-01-07|               1189|\n",
            "|2025-01-08|               1160|\n",
            "|2025-01-09|               1233|\n",
            "|2025-01-10|               1216|\n",
            "|2025-01-11|               1150|\n",
            "|2025-01-12|               1185|\n",
            "|2025-01-13|               1240|\n",
            "|2025-01-14|               1147|\n",
            "|2025-01-15|               1095|\n",
            "|2025-01-16|               1166|\n",
            "|2025-01-17|               1169|\n",
            "|2025-01-18|               1204|\n",
            "|2025-01-19|               1139|\n",
            "|2025-01-20|               1163|\n",
            "+----------+-------------------+\n",
            "only showing top 20 rows\n",
            "\n"
          ]
        }
      ]
    }
  ]
}